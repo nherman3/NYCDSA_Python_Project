{
 "cells": [
  {
   "cell_type": "code",
   "execution_count": 23,
   "id": "68942bdc",
   "metadata": {},
   "outputs": [],
   "source": [
    "import pandas as pd\n",
    "import numpy as np\n",
    "%matplotlib inline\n",
    "from matplotlib import pyplot as plt\n",
    "plt.style.use('ggplot')"
   ]
  },
  {
   "cell_type": "code",
   "execution_count": 8,
   "id": "8d2bcb55",
   "metadata": {},
   "outputs": [],
   "source": [
    "batting = pd.read_csv('batting.csv')\n",
    "people = pd.read_csv('people.csv')\n",
    "teams_states = pd.read_csv('teamID_states.csv')\n"
   ]
  },
  {
   "cell_type": "code",
   "execution_count": 9,
   "id": "d70f97f1",
   "metadata": {},
   "outputs": [],
   "source": [
    "batting = batting.apply(pd.to_numeric, errors='ignore')\n",
    "\n",
    "batting['BA'] = round(batting.H / batting.AB,3)\n",
    "\n",
    "max_ba1 = pd.DataFrame(np.arange(1871,2023))\n",
    "max_ba1.columns=['yearID']\n",
    "max_ba2 = batting.loc[batting['AB']>502].groupby('yearID').agg('max')[['BA']].reset_index()\n",
    "max_ba = pd.merge(max_ba1,max_ba2,how='left')\n",
    "max_ba.columns = ['max_ba' if x=='BA' else x for x in max_ba.columns]\n",
    "batting = batting.merge(max_ba,on='yearID')\n"
   ]
  },
  {
   "cell_type": "code",
   "execution_count": 10,
   "id": "4aa85413",
   "metadata": {},
   "outputs": [
    {
     "name": "stdout",
     "output_type": "stream",
     "text": [
      "Batting Average for players who play in home states:\n",
      "0.185\n",
      "Batting Average for players who play out of home states:\n",
      "0.185\n",
      "Batting Average for players who play in home states (over 500 ABs):\n",
      "0.281\n",
      "Batting Average for players who play out of home states (over 500 ABs):\n",
      "0.279\n"
     ]
    }
   ],
   "source": [
    "a = batting.merge(people,on='playerID')\n",
    "b = a.merge(teams_states[['State','teamID']], on = 'teamID')\n",
    "c= b.loc[b.AB >502]\n",
    "print('Batting Average for players who play in home states:')\n",
    "print(round(b.loc[b.birthState == b.State].groupby('playerID').first()['BA'].mean(),3))\n",
    "print('Batting Average for players who play out of home states:')\n",
    "print(round(b.loc[b.birthState == b.State].groupby('playerID').first()['BA'].mean(),3))\n",
    "print('Batting Average for players who play in home states (over 500 ABs):')\n",
    "print(round(c.loc[c.birthState == c.State].groupby('playerID').first()['BA'].mean(),3))\n",
    "print('Batting Average for players who play out of home states (over 500 ABs):')\n",
    "print(round(c.loc[c.birthState != c.State].groupby('playerID').first()['BA'].mean(),3))\n",
    "\n",
    "# NO SIGNIFICANT DIFFERENCE IN PLAYER PERFORMANCE FOR PLAYING IN STATE THEY WERE BORN"
   ]
  },
  {
   "cell_type": "code",
   "execution_count": 30,
   "id": "459770c1",
   "metadata": {},
   "outputs": [
    {
     "data": {
      "text/plain": [
       "(array([ 0.20750332,  2.04412845,  8.10145941, 13.18308327, 10.11909808,\n",
       "         4.26927044,  1.36863892,  0.39734678,  0.11920403,  0.03090475]),\n",
       " array([0.189 , 0.2141, 0.2392, 0.2643, 0.2894, 0.3145, 0.3396, 0.3647,\n",
       "        0.3898, 0.4149, 0.44  ]),\n",
       " <BarContainer object of 10 artists>)"
      ]
     },
     "execution_count": 30,
     "metadata": {},
     "output_type": "execute_result"
    },
    {
     "data": {
      "image/png": "[encoded data removed]",
      "text/plain": [
       "<Figure size 640x480 with 1 Axes>"
      ]
     },
     "metadata": {},
     "output_type": "display_data"
    }
   ],
   "source": [
    "list(batting.playerID.unique())\n",
    "\n",
    "plt.hist([c['BA']],stacked=True, density=True)\n"
   ]
  }
 ],
 "metadata": {
  "kernelspec": {
   "display_name": "Python 3 (ipykernel)",
   "language": "python",
   "name": "python3"
  },
  "language_info": {
   "codemirror_mode": {
    "name": "ipython",
    "version": 3
   },
   "file_extension": ".py",
   "mimetype": "text/x-python",
   "name": "python",
   "nbconvert_exporter": "python",
   "pygments_lexer": "ipython3",
   "version": "3.10.9"
  }
 },
 "nbformat": 4,
 "nbformat_minor": 5
}
